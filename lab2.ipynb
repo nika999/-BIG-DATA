{
 "cells": [
  {
   "cell_type": "markdown",
   "metadata": {},
   "source": [
    "Лабораторна робота № 2. Формат HDF5.\n",
    "\n",
    "В цій лабораторній роботі побудуємо за даними детектора гравітаційних хвиль\n",
    "LIGO графік злиття двох нейтронних зір. Подія GW170817 https://uk.wikipedia.org/wiki/GW170817. \n",
    "Лабораторну роботу створено на основі https://losc.ligo.org/tutorial00/\n",
    "1. Завантажте файл з даними за посиланням\n",
    "https://dcc.ligo.org/public/0146/P1700337/001/H-H1_LOSC_C00_4_V1-1187006834-4096.hdf5\n",
    "2. Виведіть зміст файлу командою."
   ]
  },
  {
   "cell_type": "code",
   "execution_count": 1,
   "metadata": {},
   "outputs": [],
   "source": [
    "#----------------------\n",
    "# Import needed modules\n",
    "#----------------------\n",
    "import numpy as np\n",
    "import matplotlib.pyplot as plt\n",
    "import h5py"
   ]
  },
  {
   "cell_type": "code",
   "execution_count": 2,
   "metadata": {},
   "outputs": [],
   "source": [
    "fileName = 'H-H1_LOSC_C00_4_V1-1187006834-4096.hdf5'\n",
    "dataFile = h5py.File(fileName, 'r')"
   ]
  },
  {
   "cell_type": "code",
   "execution_count": 3,
   "metadata": {
    "scrolled": true
   },
   "outputs": [
    {
     "name": "stdout",
     "output_type": "stream",
     "text": [
      "meta\n",
      "quality\n",
      "strain\n"
     ]
    }
   ],
   "source": [
    "#----------------------\n",
    "# Explore the file\n",
    "#----------------------\n",
    "for key in dataFile.keys():\n",
    "    print (key)"
   ]
  },
  {
   "cell_type": "markdown",
   "metadata": {},
   "source": [
    "4. Зчитайте результати вимірів. Для цього зчитайте name Strain з групи strain в змінну strain. \n",
    "5. Також з «strain/Strain» зчитайте атрибут Xspacing в змінну st та виведіть її. Це інтервал часу між вимірами."
   ]
  },
  {
   "cell_type": "code",
   "execution_count": 4,
   "metadata": {},
   "outputs": [
    {
     "name": "stderr",
     "output_type": "stream",
     "text": [
      "<ipython-input-4-12382788e92f>:4: H5pyDeprecationWarning: dataset.value has been deprecated. Use dataset[()] instead.\n",
      "  strain = dataFile['strain']['Strain'].value\n"
     ]
    },
    {
     "data": {
      "text/plain": [
       "array([-2.39164589e-18, -2.41165983e-18, -2.42738194e-18, ...,\n",
       "       -1.44620127e-18, -1.43820069e-18, -1.44157492e-18])"
      ]
     },
     "execution_count": 4,
     "metadata": {},
     "output_type": "execute_result"
    }
   ],
   "source": [
    "#---------------------\n",
    "# Read in strain data\n",
    "#---------------------\n",
    "strain = dataFile['strain']['Strain'].value\n",
    "strain"
   ]
  },
  {
   "cell_type": "code",
   "execution_count": 5,
   "metadata": {},
   "outputs": [
    {
     "data": {
      "text/plain": [
       "0.000244140625"
      ]
     },
     "execution_count": 5,
     "metadata": {},
     "output_type": "execute_result"
    }
   ],
   "source": [
    "ts = dataFile['strain']['Strain'].attrs['Xspacing']\n",
    "ts"
   ]
  },
  {
   "cell_type": "code",
   "execution_count": 6,
   "metadata": {},
   "outputs": [
    {
     "name": "stdout",
     "output_type": "stream",
     "text": [
      "Description b'Strain data time series from LIGO'\n",
      "DescriptionURL b'http://losc.ligo.org/'\n",
      "Detector b'H1'\n",
      "Duration 4096\n",
      "GPSstart 1187006834\n",
      "Observatory b'H'\n",
      "Type b'StrainTimeSeries'\n",
      "UTCstart b'2017-08-17T12:06:56'\n"
     ]
    },
    {
     "name": "stderr",
     "output_type": "stream",
     "text": [
      "<ipython-input-6-97fb821040c6>:8: H5pyDeprecationWarning: dataset.value has been deprecated. Use dataset[()] instead.\n",
      "  print (key, meta[key].value)\n"
     ]
    }
   ],
   "source": [
    "#-----------------------\n",
    "# Print out some meta data\n",
    "#-----------------------\n",
    "\n",
    "metaKeys = dataFile['meta'].keys()\n",
    "meta = dataFile['meta']\n",
    "for key in metaKeys:\n",
    "    print (key, meta[key].value)"
   ]
  },
  {
   "cell_type": "markdown",
   "metadata": {},
   "source": [
    "6. Знайдіть час початку події та її тривалість. Для цього з групи meta зчитайте в змінну gpsStart name GPSstart та в змінну duration name Duration.\n",
    "7. Знайдіть час закінчення події та збережіть його в змінну gpsEnd.\n",
    "8. Створіть вектор з часу вимірів і збережіть у змінну myTime. Початок послідовності – gpsStart, кінець – gpsEnd, крок – st."
   ]
  },
  {
   "cell_type": "code",
   "execution_count": 7,
   "metadata": {},
   "outputs": [
    {
     "name": "stderr",
     "output_type": "stream",
     "text": [
      "<ipython-input-7-979ba032257c>:4: H5pyDeprecationWarning: dataset.value has been deprecated. Use dataset[()] instead.\n",
      "  gpsStart = meta['GPSstart'].value\n",
      "<ipython-input-7-979ba032257c>:5: H5pyDeprecationWarning: dataset.value has been deprecated. Use dataset[()] instead.\n",
      "  duration = meta['Duration'].value\n"
     ]
    }
   ],
   "source": [
    "#---------------------------\n",
    "# Create a time vector\n",
    "#---------------------------\n",
    "gpsStart = meta['GPSstart'].value\n",
    "duration = meta['Duration'].value\n",
    "gpsEnd   = gpsStart + duration\n",
    "\n",
    "time = np.arange(gpsStart, gpsEnd, ts)"
   ]
  },
  {
   "cell_type": "markdown",
   "metadata": {},
   "source": [
    "9. Побудуємо графік тільки для першого мільйону вимірів. Для цього створіть змінну numSamples, яка дорівнює 1000000.\n",
    "10.Побудуйте графік за допомогою функції plot(myTime[0:numSamples], strain[0:numSamples], type = \"l\", xlab = \"GPS Time (s)\", ylab = \"H1 Strain\")"
   ]
  },
  {
   "cell_type": "code",
   "execution_count": 8,
   "metadata": {},
   "outputs": [
    {
     "data": {
      "image/png": "[encoded data removed]",
      "text/plain": [
       "<Figure size 432x288 with 1 Axes>"
      ]
     },
     "metadata": {
      "needs_background": "light"
     },
     "output_type": "display_data"
    }
   ],
   "source": [
    "#----------------------\n",
    "# Plot the time series\n",
    "#----------------------\n",
    "numSamples = 1000000\n",
    "plt.plot(time[0:numSamples], strain[0:numSamples])\n",
    "plt.xlabel('GPS Time (s)')\n",
    "plt.ylabel('H1 Strain')\n",
    "plt.show()"
   ]
  }
 ],
 "metadata": {
  "kernelspec": {
   "display_name": "Python 3",
   "language": "python",
   "name": "python3"
  },
  "language_info": {
   "codemirror_mode": {
    "name": "ipython",
    "version": 3
   },
   "file_extension": ".py",
   "mimetype": "text/x-python",
   "name": "python",
   "nbconvert_exporter": "python",
   "pygments_lexer": "ipython3",
   "version": "3.8.3"
  }
 },
 "nbformat": 4,
 "nbformat_minor": 4
}
