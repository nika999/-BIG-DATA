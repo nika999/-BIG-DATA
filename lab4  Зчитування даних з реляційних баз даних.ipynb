{
 "cells": [
  {
   "cell_type": "markdown",
   "metadata": {},
   "source": [
    "## Лабораторна робота № 4. Зчитування даних з реляційних баз даних.\n",
    "\n",
    "Дані для цієї лабораторної роботи взяті з https://www.kaggle.com/benhamner/nips-2015-papers\n",
    "\n",
    "Для виконання лабораторної необхідно завантажити файл бази даних SQLite за посиланням: «https://www.dropbox.com/s/pf2htfcrdoqh3ii/database.sqlite?dl=0».\n",
    "\n",
    "В цьому файлі містяться дані по доповідям на Neural Information Processing Systems (NIPS) яка є однією з ведучих конференцій по машинному навчанню в світі. База даних складається з наступних таблиць:\n",
    "\n",
    "#### Papers\n",
    "\n",
    "This file contains one row for each of the 403 NIPS papers from this year's conference.\n",
    "It includes the following fields\n",
    "\n",
    " Id - unique identifier for the paper (equivalent to the one in NIPS's system)\n",
    " \n",
    " Title - title of the paper\n",
    " \n",
    " EventType - whether it's a poster, oral, or spotlight presentation\n",
    " \n",
    " PdfName - filename for the PDF document\n",
    " \n",
    " Abstract - text for the abstract (scraped from the NIPS website)\n",
    " \n",
    " PaperText - raw text from the PDF document (created using the tool pdftotext)\n",
    " \n",
    "#### Authors\n",
    "\n",
    "This file contains id's and names for each of the authors on this year's NIPS papers.\n",
    "\n",
    " Id - unique identifier for the author (equivalent to the one in NIPS's system)\n",
    " \n",
    " Name - author's name\n",
    " \n",
    "#### PaperAuthors\n",
    "\n",
    "This file links papers to their corresponding authors.\n",
    "\n",
    " Id - unique identifier\n",
    " \n",
    " PaperId - id for the paper\n",
    " \n",
    " AuthorId - id for the author\n"
   ]
  },
  {
   "cell_type": "markdown",
   "metadata": {},
   "source": [
    "### В результаті виконання лабораторної роботи необхідно створити фрейми даних:\n",
    "\n",
    "1. Назва статті (Title), тип виступу (EventType). Необхідно вибрати тільки статті с типом виступу Spotlight. Сортування по назві статті.\n",
    "\n",
    "2. Ім’я автора (Name), Назва статті (Title). Необхідно вивести всі назви статей для автора «Josh Tenenbaum». Сортування по назві статті.\n",
    "\n",
    "3. Вибрати всі назви статей (Title), в яких є слово «statistical». Сортування по назві статті.\n",
    "\n",
    "4. Ім’я автору (Name), кількість статей по кожному автору (NumPapers). Сортування по кількості статей від більшої кількості до меньшої."
   ]
  },
  {
   "cell_type": "code",
   "execution_count": 1,
   "metadata": {},
   "outputs": [],
   "source": [
    "import pandas as pd\n",
    "import sqlite3\n",
    "\n",
    "con = sqlite3.connect(\"database.sqlite\") # или :memory: чтобы сохранить в RAM\n",
    "cursor = con.cursor()"
   ]
  },
  {
   "cell_type": "code",
   "execution_count": 2,
   "metadata": {},
   "outputs": [
    {
     "name": "stdout",
     "output_type": "stream",
     "text": [
      "               Author\n",
      "0       ABHISEK KUNDU\n",
      "1      Aaditya Ramdas\n",
      "2  Aaron C. Courville\n",
      "3         Aaron Klein\n",
      "4          Aaron Roth\n",
      "5         Aarti Singh\n",
      "6   Abbas Abdolmaleki\n",
      "7  Abhradeep Thakurta\n",
      "8          Adam Smith\n",
      "9       Adarsh Prasad\n"
     ]
    }
   ],
   "source": [
    "# Read sqlite query results into a pandas DataFrame\n",
    "\n",
    "df1 = pd.read_sql_query(\"SELECT Name as Author FROM Authors ORDER BY Name\", con)\n",
    "\n",
    "# Verify that result of SQL query is stored in the dataframe\n",
    "print(df1.head(10))\n",
    "\n"
   ]
  },
  {
   "cell_type": "markdown",
   "metadata": {},
   "source": [
    "### 1. Назва статті (Title), тип виступу (EventType). Необхідно вибрати тільки статті с типом виступу Spotlight. Сортування по назві статті."
   ]
  },
  {
   "cell_type": "code",
   "execution_count": 3,
   "metadata": {},
   "outputs": [
    {
     "name": "stdout",
     "output_type": "stream",
     "text": [
      "                                               Title  EventType\n",
      "0  A Tractable Approximation to Optimal Point Pro...  Spotlight\n",
      "1  Accelerated Mirror Descent in Continuous and D...  Spotlight\n",
      "2  Action-Conditional Video Prediction using Deep...  Spotlight\n",
      "3                           Adaptive Online Learning  Spotlight\n",
      "4  Asynchronous Parallel Stochastic Gradient for ...  Spotlight\n",
      "5      Attention-Based Models for Speech Recognition  Spotlight\n",
      "6            Automatic Variational Inference in Stan  Spotlight\n",
      "7  Backpropagation for Energy-Efficient Neuromorp...  Spotlight\n",
      "8  Bandit Smooth Convex Optimization: Improving t...  Spotlight\n",
      "9  Biologically Inspired Dynamic Textures for Pro...  Spotlight\n"
     ]
    }
   ],
   "source": [
    "df2 = pd.read_sql_query(\"SELECT Title, EventType   FROM Papers where EventType = 'Spotlight'  ORDER BY Title\", con)\n",
    "\n",
    "# Verify that result of SQL query is stored in the dataframe\n",
    "print(df2.head(10))"
   ]
  },
  {
   "cell_type": "markdown",
   "metadata": {},
   "source": [
    "### 2. Ім’я автора (Name), Назва статті (Title). Необхідно вивести всі назви статей для автора «Josh Tenenbaum». Сортування по назві статті."
   ]
  },
  {
   "cell_type": "code",
   "execution_count": 4,
   "metadata": {},
   "outputs": [
    {
     "name": "stdout",
     "output_type": "stream",
     "text": [
      "                   Name                                              Title\n",
      "0          Sanja Fidler  3D Object Proposals for Accurate Object Class ...\n",
      "1        Raquel Urtasun  3D Object Proposals for Accurate Object Class ...\n",
      "2          Xiaozhi Chen  3D Object Proposals for Accurate Object Class ...\n",
      "3         Kaustav Kundu  3D Object Proposals for Accurate Object Class ...\n",
      "4             Yukun Zhu  3D Object Proposals for Accurate Object Class ...\n",
      "5  Andrew G. Berneshawi  3D Object Proposals for Accurate Object Class ...\n",
      "6             Huimin Ma  3D Object Proposals for Accurate Object Class ...\n",
      "7         Rajesh P. Rao  A Bayesian Framework for Modeling Confidence i...\n",
      "8       Koosha Khalvati  A Bayesian Framework for Modeling Confidence i...\n",
      "9             Emily Fox     A Complete Recipe for Stochastic Gradient MCMC\n"
     ]
    }
   ],
   "source": [
    "df3 = pd.read_sql_query(\"SELECT Authors.Name, Papers.Title FROM Authors left join PaperAuthors on  PaperAuthors.AuthorId = Authors.Id left join  Papers on Papers.ID = PaperAuthors.PaperId  ORDER BY Title\", con)\n",
    "\n",
    "# Verify that result of SQL query is stored in the dataframe\n",
    "print(df3.head(10))"
   ]
  },
  {
   "cell_type": "markdown",
   "metadata": {},
   "source": [
    "### 3. Вибрати всі назви статей (Title), в яких є слово «statistical». Сортування по назві статті."
   ]
  },
  {
   "cell_type": "code",
   "execution_count": 5,
   "metadata": {},
   "outputs": [
    {
     "name": "stdout",
     "output_type": "stream",
     "text": [
      "                                               Title\n",
      "0  Statistical Model Criticism using Kernel Two S...\n",
      "1  Fast Randomized Kernel Ridge Regression with S...\n",
      "2  Regularized EM Algorithms: A Unified Framework...\n",
      "3  Adaptive Primal-Dual Splitting Methods for Sta...\n",
      "4  Evaluating the statistical significance of bic...\n",
      "5  Statistical Topological Data Analysis - A Kern...\n",
      "6  High Dimensional EM Algorithm: Statistical Opt...\n",
      "7  Non-convex Statistical Optimization for Sparse...\n"
     ]
    }
   ],
   "source": [
    "df4 = pd.read_sql_query(\"SELECT Title FROM Papers where Title LIKE '%statistical%'\", con)\n",
    "\n",
    "print(df4.head(10))"
   ]
  },
  {
   "cell_type": "markdown",
   "metadata": {},
   "source": [
    "### 4. Ім’я автору (Name), кількість статей по кожному автору (NumPapers). Сортування по кількості статей від більшої кількості до меньшої."
   ]
  },
  {
   "cell_type": "code",
   "execution_count": 6,
   "metadata": {},
   "outputs": [
    {
     "name": "stdout",
     "output_type": "stream",
     "text": [
      "                 Name  count(Papers.Title)\n",
      "0       ABHISEK KUNDU                    1\n",
      "1      Aaditya Ramdas                    1\n",
      "2  Aaron C. Courville                    1\n",
      "3         Aaron Klein                    1\n",
      "4          Aaron Roth                    1\n",
      "5         Aarti Singh                    1\n",
      "6   Abbas Abdolmaleki                    1\n",
      "7  Abhradeep Thakurta                    1\n",
      "8          Adam Smith                    1\n",
      "9       Adarsh Prasad                    1\n"
     ]
    }
   ],
   "source": [
    "df5 = pd.read_sql_query(\"SELECT Authors.Name, count(Papers.Title) FROM Authors left join PaperAuthors on  PaperAuthors.AuthorId = Authors.Id left join  Papers on Papers.ID = PaperAuthors.PaperId  Group by Authors.Name ORDER BY count(Papers.Title)\", con)\n",
    "\n",
    "# Verify that result of SQL query is stored in the dataframe\n",
    "print(df5.head(10))"
   ]
  },
  {
   "cell_type": "code",
   "execution_count": 7,
   "metadata": {},
   "outputs": [],
   "source": [
    "con.close()"
   ]
  }
 ],
 "metadata": {
  "kernelspec": {
   "display_name": "Python 3",
   "language": "python",
   "name": "python3"
  },
  "language_info": {
   "codemirror_mode": {
    "name": "ipython",
    "version": 3
   },
   "file_extension": ".py",
   "mimetype": "text/x-python",
   "name": "python",
   "nbconvert_exporter": "python",
   "pygments_lexer": "ipython3",
   "version": "3.8.3"
  }
 },
 "nbformat": 4,
 "nbformat_minor": 4
}
